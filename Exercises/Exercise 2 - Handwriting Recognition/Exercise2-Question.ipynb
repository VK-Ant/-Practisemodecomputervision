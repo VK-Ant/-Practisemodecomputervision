{
  "nbformat": 4,
  "nbformat_minor": 0,
  "metadata": {
    "colab": {
      "name": "Exercise2-Question.ipynb",
      "provenance": [],
      "collapsed_sections": []
    },
    "kernelspec": {
      "display_name": "Python 3",
      "name": "python3"
    }
  },
  "cells": [
    {
      "cell_type": "code",
      "metadata": {
        "id": "zX4Kg8DUTKWO"
      },
      "source": [
        "#@title Licensed under the Apache License, Version 2.0 (the \"License\");\n",
        "# you may not use this file except in compliance with the License.\n",
        "# You may obtain a copy of the License at\n",
        "#\n",
        "# https://www.apache.org/licenses/LICENSE-2.0\n",
        "#\n",
        "# Unless required by applicable law or agreed to in writing, software\n",
        "# distributed under the License is distributed on an \"AS IS\" BASIS,\n",
        "# WITHOUT WARRANTIES OR CONDITIONS OF ANY KIND, either express or implied.\n",
        "# See the License for the specific language governing permissions and\n",
        "# limitations under the License."
      ],
      "execution_count": null,
      "outputs": []
    },
    {
      "cell_type": "markdown",
      "metadata": {
        "id": "tOoyQ70H00_s"
      },
      "source": [
        ""
      ]
    },
    {
      "cell_type": "code",
      "metadata": {
        "colab": {
          "base_uri": "https://localhost:8080/"
        },
        "id": "9rvXQGAA0ssC",
        "outputId": "6f82a0a6-e6f8-4606-c941-62450d844765"
      },
      "source": [
        "import tensorflow as tf\n",
        "class myCallback(tf.keras.callbacks.Callback):\n",
        "        def on_epoch_end(self,epoch,logs={}):\n",
        "            if(logs.get('accuracy') > 0.99):\n",
        "                print(\"reached 99% accuracy so cancelling training!\")\n",
        "                self.model.stop_training = True\n",
        "    \n",
        "\n",
        "    # YOUR CODE SHOULD END HERE\n",
        "mnist = tf.keras.datasets.mnist\n",
        "\n",
        "(x_train, y_train),(x_test, y_test) = mnist.load_data()\n",
        "    # YOUR CODE SHOULD START HERE\n",
        "x_train,x_test = x_train / 255.0, x_test / 255.0\n",
        "    \n",
        "    \n",
        "callbacks = myCallback()\n",
        "\n",
        "    # YOUR CODE SHOULD END HERE\n",
        "model = tf.keras.models.Sequential([\n",
        "  tf.keras.layers.Flatten(input_shape=(28,28)),\n",
        "  tf.keras.layers.Dense(512,activation='relu'),\n",
        "  tf.keras.layers.Dense(10,activation='softmax')\n",
        "])\n",
        "\n",
        "model.compile(optimizer='adam',\n",
        "              loss='sparse_categorical_crossentropy',\n",
        "              metrics=['accuracy'])\n",
        "    \n",
        "    # model fitting\n",
        "history = model.fit(x_train, y_train, epochs=6, callbacks=[callbacks])\n",
        "    # model fitting\n",
        "    \n",
        "   "
      ],
      "execution_count": 15,
      "outputs": [
        {
          "output_type": "stream",
          "text": [
            "Epoch 1/6\n",
            "1875/1875 [==============================] - 9s 5ms/step - loss: 0.2027 - accuracy: 0.9392\n",
            "Epoch 2/6\n",
            "1875/1875 [==============================] - 8s 4ms/step - loss: 0.0806 - accuracy: 0.9753\n",
            "Epoch 3/6\n",
            "1875/1875 [==============================] - 8s 4ms/step - loss: 0.0544 - accuracy: 0.9830\n",
            "Epoch 4/6\n",
            "1875/1875 [==============================] - 8s 4ms/step - loss: 0.0371 - accuracy: 0.9880\n",
            "Epoch 5/6\n",
            "1875/1875 [==============================] - 8s 4ms/step - loss: 0.0280 - accuracy: 0.9912\n",
            "reached 99% accuracy so cancelling training!\n"
          ],
          "name": "stdout"
        }
      ]
    },
    {
      "cell_type": "code",
      "metadata": {
        "id": "XgqxVJXt0htX",
        "outputId": "deee44df-8ecd-48a1-93ae-9b7efb16e32c",
        "colab": {
          "base_uri": "https://localhost:8080/"
        }
      },
      "source": [
        "model.predict(x_test)\n"
      ],
      "execution_count": 16,
      "outputs": [
        {
          "output_type": "execute_result",
          "data": {
            "text/plain": [
              "array([[4.6246482e-11, 4.4323670e-10, 1.4740350e-08, ..., 9.9999380e-01,\n",
              "        6.1813532e-10, 2.1595103e-08],\n",
              "       [6.1937287e-12, 8.4199732e-09, 9.9999976e-01, ..., 1.6640052e-15,\n",
              "        4.9885642e-09, 5.4869272e-17],\n",
              "       [8.4090146e-08, 9.9959344e-01, 1.6595444e-05, ..., 5.3545518e-05,\n",
              "        2.7613662e-04, 2.7465705e-07],\n",
              "       ...,\n",
              "       [1.6749428e-14, 3.3025839e-11, 3.4019537e-13, ..., 3.4629981e-08,\n",
              "        2.2175543e-07, 2.7294770e-06],\n",
              "       [3.7685879e-10, 6.9084641e-13, 2.1756451e-13, ..., 1.3599637e-12,\n",
              "        4.8090163e-07, 3.6081905e-15],\n",
              "       [1.7341529e-09, 9.6597535e-13, 1.0229879e-08, ..., 2.5731353e-12,\n",
              "        1.0174382e-08, 1.8206543e-10]], dtype=float32)"
            ]
          },
          "metadata": {
            "tags": []
          },
          "execution_count": 16
        }
      ]
    },
    {
      "cell_type": "code",
      "metadata": {
        "id": "3JtlJ71d168B",
        "outputId": "27993069-7c10-40b3-e680-fee86bfd376e",
        "colab": {
          "base_uri": "https://localhost:8080/"
        }
      },
      "source": [
        "model.evaluate(x_test, y_test)\n",
        "classifications = model.predict(x_test)"
      ],
      "execution_count": 17,
      "outputs": [
        {
          "output_type": "stream",
          "text": [
            "313/313 [==============================] - 1s 2ms/step - loss: 0.0743 - accuracy: 0.9781\n"
          ],
          "name": "stdout"
        }
      ]
    },
    {
      "cell_type": "code",
      "metadata": {
        "id": "I4-XgSso2DHx",
        "outputId": "8075363d-14e0-4a86-cdd9-f143a43ca51f",
        "colab": {
          "base_uri": "https://localhost:8080/",
          "height": 282
        }
      },
      "source": [
        "import matplotlib.pyplot as plt\n",
        "plt.imshow(x_train[0])\n",
        "print(y_train[0])\n"
      ],
      "execution_count": 18,
      "outputs": [
        {
          "output_type": "stream",
          "text": [
            "5\n"
          ],
          "name": "stdout"
        },
        {
          "output_type": "display_data",
          "data": {
            "image/png": "[encoded data removed]",
            "text/plain": [
              "<Figure size 432x288 with 1 Axes>"
            ]
          },
          "metadata": {
            "tags": [],
            "needs_background": "light"
          }
        }
      ]
    },
    {
      "cell_type": "code",
      "metadata": {
        "id": "Y6VUITcl2MYL",
        "outputId": "69d4f3a8-c3c6-4ed8-a2b9-92919e4b051e",
        "colab": {
          "base_uri": "https://localhost:8080/",
          "height": 282
        }
      },
      "source": [
        "plt.imshow(x_train[99])\n",
        "print(y_train[99])"
      ],
      "execution_count": 20,
      "outputs": [
        {
          "output_type": "stream",
          "text": [
            "1\n"
          ],
          "name": "stdout"
        },
        {
          "output_type": "display_data",
          "data": {
            "image/png": "[encoded data removed]",
            "text/plain": [
              "<Figure size 432x288 with 1 Axes>"
            ]
          },
          "metadata": {
            "tags": [],
            "needs_background": "light"
          }
        }
      ]
    }
  ]
}